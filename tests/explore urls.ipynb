{
 "cells": [
  {
   "cell_type": "code",
   "execution_count": 179,
   "metadata": {},
   "outputs": [],
   "source": [
    "import requests\n",
    "from xml.etree import ElementTree\n",
    "import xml.dom.minidom\n",
    "import re\n",
    "from bs4 import BeautifulSoup as bs\n",
    "\n",
    "\n",
    "# https://api.manomano.io/v1/words?text=ponoi"
   ]
  },
  {
   "cell_type": "code",
   "execution_count": 184,
   "metadata": {},
   "outputs": [],
   "source": [
    "def parse_xml_tree(btree):\n",
    "    contents = []\n",
    "    soups = []\n",
    "    for node in btree: \n",
    "        print(\"{}\".format(node))\n",
    "        for section in node:\n",
    "            print(\"\\t{}\".format(section))\n",
    "            if section.tag == 'Content':\n",
    "                print(\"\\t\\t\\t\\n{}\\n\".format(section.text))\n",
    "                contents.append(section.text)\n",
    "                soups.append(bs(section.text))\n",
    "            for subsection in section:\n",
    "                print(\"\\t\\t{}\".format(subsection))\n",
    "    return(soups)\n",
    "\n",
    "def inner_content(tt):\n",
    "    pat = r'.*?\\>(.*)\\<.*' \n",
    "    matches = []\n",
    "    for tt in t:\n",
    "        match = re.search(pat,str(tt))\n",
    "        matches.append(match[1])\n",
    "    return(matches)"
   ]
  },
  {
   "cell_type": "code",
   "execution_count": 7,
   "metadata": {},
   "outputs": [],
   "source": [
    "\n",
    "post_url = \"http://wehewehe.org/gsdl2.85/cgi-bin/hdict\"\n",
    "headers = {}\n",
    "payload = \"a=xml&q=ponoʻī&fqv=_textchd_\".encode(\"utf8\")\n",
    "a = requests.post(post_url,data=payload)\n",
    "\n"
   ]
  },
  {
   "cell_type": "code",
   "execution_count": 27,
   "metadata": {},
   "outputs": [],
   "source": [
    "tree = ElementTree.fromstring(a.content)"
   ]
  },
  {
   "cell_type": "code",
   "execution_count": 28,
   "metadata": {},
   "outputs": [],
   "source": [
    "dom = xml.dom.minidom.parseString(a.text)\n",
    "pretty_xml_as_string = dom.toprettyxml()"
   ]
  },
  {
   "cell_type": "code",
   "execution_count": 33,
   "metadata": {},
   "outputs": [
    {
     "ename": "AttributeError",
     "evalue": "'xml.etree.ElementTree.Element' object has no attribute 'getroot'",
     "output_type": "error",
     "traceback": [
      "\u001b[1;31m---------------------------------------------------------------------------\u001b[0m",
      "\u001b[1;31mAttributeError\u001b[0m                            Traceback (most recent call last)",
      "\u001b[1;32m<ipython-input-33-cdafa1293606>\u001b[0m in \u001b[0;36m<module>\u001b[1;34m\u001b[0m\n\u001b[0;32m     16\u001b[0m     \u001b[1;32mreturn\u001b[0m \u001b[0melem\u001b[0m\u001b[1;33m\u001b[0m\u001b[1;33m\u001b[0m\u001b[0m\n\u001b[0;32m     17\u001b[0m \u001b[1;33m\u001b[0m\u001b[0m\n\u001b[1;32m---> 18\u001b[1;33m \u001b[0mroot\u001b[0m \u001b[1;33m=\u001b[0m \u001b[0mtree\u001b[0m\u001b[1;33m.\u001b[0m\u001b[0mgetroot\u001b[0m\u001b[1;33m(\u001b[0m\u001b[1;33m)\u001b[0m\u001b[1;33m\u001b[0m\u001b[1;33m\u001b[0m\u001b[0m\n\u001b[0m\u001b[0;32m     19\u001b[0m \u001b[0mindent\u001b[0m\u001b[1;33m(\u001b[0m\u001b[0mroot\u001b[0m\u001b[1;33m)\u001b[0m\u001b[1;33m\u001b[0m\u001b[1;33m\u001b[0m\u001b[0m\n\u001b[0;32m     20\u001b[0m \u001b[0mElementTree\u001b[0m\u001b[1;33m.\u001b[0m\u001b[0mdump\u001b[0m\u001b[1;33m(\u001b[0m\u001b[0mroot\u001b[0m\u001b[1;33m)\u001b[0m\u001b[1;33m\u001b[0m\u001b[1;33m\u001b[0m\u001b[0m\n",
      "\u001b[1;31mAttributeError\u001b[0m: 'xml.etree.ElementTree.Element' object has no attribute 'getroot'"
     ]
    }
   ],
   "source": [
    "def indent(elem, level=0):\n",
    "    i = \"\\n\" + level*\"  \"\n",
    "    j = \"\\n\" + (level-1)*\"  \"\n",
    "    if len(elem):\n",
    "        if not elem.text or not elem.text.strip():\n",
    "            elem.text = i + \"  \"\n",
    "        if not elem.tail or not elem.tail.strip():\n",
    "            elem.tail = i\n",
    "        for subelem in elem:\n",
    "            indent(subelem, level+1)\n",
    "        if not elem.tail or not elem.tail.strip():\n",
    "            elem.tail = j\n",
    "    else:\n",
    "        if level and (not elem.tail or not elem.tail.strip()):\n",
    "            elem.tail = j\n",
    "    return elem        \n",
    "\n",
    "root = tree.getroot()\n",
    "indent(root)\n",
    "ElementTree.dump(root)"
   ]
  },
  {
   "cell_type": "code",
   "execution_count": 134,
   "metadata": {},
   "outputs": [
    {
     "name": "stdout",
     "output_type": "stream",
     "text": [
      "Section {}\n",
      "Section {}\n",
      "Section {}\n",
      "Section {}\n",
      "Section {}\n",
      "Section {}\n",
      "Section {}\n",
      "Section {}\n",
      "Section {}\n",
      "Section {}\n"
     ]
    }
   ],
   "source": [
    "for child in btree:\n",
    "    print(child.tag, child.attrib)"
   ]
  },
  {
   "cell_type": "code",
   "execution_count": 43,
   "metadata": {},
   "outputs": [],
   "source": [
    "with open('out.txt','w',encoding=\"utf8\") as f:\n",
    "    f.write(a.text)"
   ]
  },
  {
   "cell_type": "code",
   "execution_count": null,
   "metadata": {},
   "outputs": [],
   "source": []
  },
  {
   "cell_type": "code",
   "execution_count": 116,
   "metadata": {},
   "outputs": [],
   "source": [
    "#http://wehewehe.org/gsdl2.85/cgi-bin/hdict?a=q&r=1&hs=1&m=-1&o=-1&qto=4&e=p-11000-00---off-0hdict--00-1----0-10-0---0---0direct-10-ED--4--textpukuielbert%2ctextmamaka-----0-1l--11-en-Zz-1---Zz-1-home---00-3-1-00-0--4----0-0-11-00-0utfZz-8-00&q=pono'i&fqv=textpukuielbert%2ctextmamaka&af=1&fqf=ED\n",
    "url = \"http://wehewehe.org/gsdl2.85/cgi-bin/hdict?a=q&q=ponoi\"\n",
    "data = \"a=xml&q=iho&fqv=_textchd_\".encode('utf8')\n",
    "b = requests.post(post_url,data=data)\n"
   ]
  },
  {
   "cell_type": "code",
   "execution_count": 127,
   "metadata": {},
   "outputs": [],
   "source": [
    "with open('outb.xml','w',encoding=\"utf8\") as f:\n",
    "    f.write(b.text)"
   ]
  },
  {
   "cell_type": "code",
   "execution_count": 117,
   "metadata": {},
   "outputs": [],
   "source": [
    "b.text\n",
    "btree = ElementTree.fromstring(b.content)"
   ]
  },
  {
   "cell_type": "code",
   "execution_count": 118,
   "metadata": {},
   "outputs": [],
   "source": [
    "bb = btree[0][1].text"
   ]
  },
  {
   "cell_type": "code",
   "execution_count": 119,
   "metadata": {},
   "outputs": [],
   "source": [
    "soup = bs(bb)"
   ]
  },
  {
   "cell_type": "code",
   "execution_count": 125,
   "metadata": {},
   "outputs": [],
   "source": [
    "tags = soup.findAll(\"span\")"
   ]
  },
  {
   "cell_type": "code",
   "execution_count": 126,
   "metadata": {},
   "outputs": [
    {
     "data": {
      "text/plain": [
       "[<span class=\"chdonly-HwNew\"><a class=\"chdonly-hw\" href=\"http://ulukau.org/chd/p095.pdf\" target=\"_blank\">-iho</a></span>,\n",
       " <span class=\"chdonly-pos\"> </span>,\n",
       " <span class=\"chdonly-def\"> </span>,\n",
       " <span class=\"chdonly-hawex\"><a class=\"chdonly-ex\" href=\"http://ulukau.org/chd/haw-conc-h.htm#he\" target=\"_blank\">He</a> <a class=\"chdonly-ex\" href=\"http://ulukau.org/chd/haw-conc-k.htm#kanaka\" target=\"_blank\">kanaka</a> <a class=\"chdonly-ex\" href=\"http://ulukau.org/chd/haw-conc-w.htm#waiwai\" target=\"_blank\">waiwai</a> <a class=\"chdonly-ex\" href=\"http://ulukau.org/chd/haw-conc-o.htm#oia\" target=\"_blank\">ʻoia</a>,<a class=\"chdonly-ex\" href=\"http://ulukau.org/chd/haw-conc-.htm#\" target=\"_blank\"></a> <a class=\"chdonly-ex\" href=\"http://ulukau.org/chd/haw-conc-a.htm#a\" target=\"_blank\">a</a> <a class=\"chdonly-ex\" href=\"http://ulukau.org/chd/haw-conc-h.htm#hoiho\" target=\"_blank\">hoʻīho</a> <a class=\"chdonly-ex\" href=\"http://ulukau.org/chd/haw-conc-n.htm#no\" target=\"_blank\">nō</a>,<a class=\"chdonly-ex\" href=\"http://ulukau.org/chd/haw-conc-.htm#\" target=\"_blank\"></a> <a class=\"chdonly-ex\" href=\"http://ulukau.org/chd/haw-conc-h.htm#he\" target=\"_blank\">he</a> <a class=\"chdonly-ex\" href=\"http://ulukau.org/chd/haw-conc-w.htm#wahine\" target=\"_blank\">wahine</a> <a class=\"chdonly-ex\" href=\"http://ulukau.org/chd/haw-conc-w.htm#waiwai\" target=\"_blank\">waiwai</a> <a class=\"chdonly-ex\" href=\"http://ulukau.org/chd/haw-conc-k.htm#kana\" target=\"_blank\">kāna</a>.</span>,\n",
       " <span class=\"chdonly-engex\">He is a rich man and, besides that, has a rich wife.</span>,\n",
       " <span class=\"chdonly-hawex\"><b><a class=\"chdonly-hawinentry\" href=\"http://ulukau.org/chd/haw-h.htm#hooihohoiho\" target=\"_blank\">hoʻoiho, hoʻīho</a></b></span>,\n",
       " <span class=\"chdonly-engex\">besides that, also, furthermore,</span>]"
      ]
     },
     "execution_count": 126,
     "metadata": {},
     "output_type": "execute_result"
    }
   ],
   "source": [
    "tags"
   ]
  },
  {
   "cell_type": "code",
   "execution_count": 115,
   "metadata": {},
   "outputs": [
    {
     "data": {
      "text/plain": [
       "'<?xml version=\"1.0\" encoding=\"UTF-8\" standalone=\"no\"?>\\n<!DOCTYPE Archive SYSTEM \"http://greenstone.org/dtd/Archive/1.0/Archive.dtd\">\\n<Archive>\\n<Section>\\n<Description>\\n<Metadata name=\"CHDExternalLink\">http://ulukau.org/chd/haw-i.htm&#35;64805</Metadata>\\n<Metadata name=\"Dictionary\">Combined Hawaiian Dictionary</Metadata>\\n<Metadata name=\"HawaiianID\">64805</Metadata>\\n<Metadata name=\"OID\">D107610</Metadata>\\n<Metadata name=\"Type\">Hwn to Eng</Metadata>\\n<Metadata name=\"Word\">-ihoiho</Metadata>\\n</Description>\\n<Content>\\n&lt;span class=&quot;chdonly-HwNew&quot;&gt;&lt;a class=&quot;chdonly-hw&quot; target=&quot;_blank&quot; href=&quot;http://ulukau.org/chd/p095.pdf&quot;&gt;-ihoiho&lt;/a&gt;&lt;/span&gt;&lt;span class=&quot;chdonly-hwdotted&quot;&gt; [&lt;a class=&quot;chdonly-dot&quot; target=&quot;_blank&quot; href=&quot;http://ulukau.org/chd/haw-.htm&#35;&quot;&gt;&lt;/a&gt;-&lt;a class=&quot;chdonly-dot&quot; target=&quot;_blank&quot; href=&quot;http://ulukau.org/chd/haw-i.htm&#35;iho·iho&quot;&gt;iho·iho&lt;/a&gt;]&lt;/span&gt;&amp;nbsp; &lt;span class=&quot;chdonly-pos&quot;&gt; &lt;/span&gt;&lt;span class=&quot;chdonly-def&quot;&gt;cf. &lt;a class=&quot;chdonly-hawinentry&quot; target=&quot;_blank&quot; href=&quot;http://ulukau.org/chd/haw-h.htm&#35;hoopiipii&quot;&gt;hoʻopiʻipiʻi&lt;/a&gt;. &lt;/span&gt;\\n&lt;p class=&quot;chdonly-ex&quot;&gt;&lt;span class=&quot;chdonly-hawex&quot;&gt;&lt;b&gt;&lt;a class=&quot;chdonly-hawinentry&quot; target=&quot;_blank&quot; href=&quot;http://ulukau.org/chd/haw-h.htm&#35;hooihoiho&quot;&gt;hoʻoihoiho&lt;/a&gt;&lt;/b&gt;&lt;/span&gt;&lt;span class=&quot;chdonly-engex&quot;&gt;in quilting, to make running stitches towards the sewer&lt;/span&gt;&lt;/p&gt;\\n \\n</Content>\\n</Section>\\n<Section>\\n<Description>\\n<Metadata name=\"CHDExternalLink\">http://ulukau.org/chd/haw-i.htm&#35;64802</Metadata>\\n<Metadata name=\"Dictionary\">Combined Hawaiian Dictionary</Metadata>\\n<Metadata name=\"HawaiianID\">64802</Metadata>\\n<Metadata name=\"OID\">D107611</Metadata>\\n<Metadata name=\"Type\">Hwn to Eng</Metadata>\\n<Metadata name=\"Word\">ihoiho₁</Metadata>\\n</Description>\\n<Content>\\n&lt;span class=&quot;chdonly-HwNew&quot;&gt;&lt;a class=&quot;chdonly-hw&quot; target=&quot;_blank&quot; href=&quot;http://ulukau.org/chd/p095.pdf&quot;&gt;ihoiho₁&lt;/a&gt;&lt;/span&gt;&lt;span class=&quot;chdonly-hwdotted&quot;&gt; [&lt;a class=&quot;chdonly-dot&quot; target=&quot;_blank&quot; href=&quot;http://ulukau.org/chd/haw-i.htm&#35;iho&quot;&gt;iho&lt;/a&gt;·&lt;a class=&quot;chdonly-dot&quot; target=&quot;_blank&quot; href=&quot;http://ulukau.org/chd/haw-i.htm&#35;iho&quot;&gt;iho&lt;/a&gt;]&lt;/span&gt;&amp;nbsp; &lt;span class=&quot;chdonly-pos&quot;&gt; &lt;/span&gt;&lt;span class=&quot;chdonly-def&quot;&gt; &lt;/span&gt;&lt;span class=&quot;chdonly-See&quot;&gt;redup. of&lt;/span&gt; &lt;a class=&quot;chdonly-hawinentry&quot; target=&quot;_blank&quot; href=&quot;http://ulukau.org/chd/haw-i.htm&#35;iho&quot;&gt;iho₁&lt;/a&gt;, go down, descend.  \\n \\n</Content>\\n</Section>\\n<Section>\\n<Description>\\n<Metadata name=\"CHDExternalLink\">http://ulukau.org/chd/haw-i.htm&#35;64803</Metadata>\\n<Metadata name=\"Dictionary\">Combined Hawaiian Dictionary</Metadata>\\n<Metadata name=\"HawaiianID\">64803</Metadata>\\n<Metadata name=\"OID\">D107612</Metadata>\\n<Metadata name=\"Type\">Hwn to Eng</Metadata>\\n<Metadata name=\"Word\">ihoiho₂</Metadata>\\n</Description>\\n<Content>\\n&lt;span class=&quot;chdonly-HwNew&quot;&gt;&lt;a class=&quot;chdonly-hw&quot; target=&quot;_blank&quot; href=&quot;http://ulukau.org/chd/p095.pdf&quot;&gt;ihoiho₂&lt;/a&gt;&lt;/span&gt;&lt;span class=&quot;chdonly-hwdotted&quot;&gt; [&lt;a class=&quot;chdonly-dot&quot; target=&quot;_blank&quot; href=&quot;http://ulukau.org/chd/haw-i.htm&#35;iho&quot;&gt;iho&lt;/a&gt;·&lt;a class=&quot;chdonly-dot&quot; target=&quot;_blank&quot; href=&quot;http://ulukau.org/chd/haw-i.htm&#35;iho&quot;&gt;iho&lt;/a&gt;]&lt;/span&gt;&amp;nbsp; &lt;span class=&quot;chdonly-pos&quot;&gt;n. &lt;/span&gt;&lt;span class=&quot;chdonly-def&quot;&gt;candle, torch. &lt;/span&gt;\\n \\n</Content>\\n</Section>\\n<Section>\\n<Description>\\n<Metadata name=\"CHDExternalLink\">http://ulukau.org/chd/haw-i.htm&#35;64804</Metadata>\\n<Metadata name=\"Dictionary\">Combined Hawaiian Dictionary</Metadata>\\n<Metadata name=\"HawaiianID\">64804</Metadata>\\n<Metadata name=\"OID\">D107613</Metadata>\\n<Metadata name=\"Type\">Hwn to Eng</Metadata>\\n<Metadata name=\"Word\">ihoiho₃</Metadata>\\n</Description>\\n<Content>\\n&lt;span class=&quot;chdonly-HwNew&quot;&gt;&lt;a class=&quot;chdonly-hw&quot; target=&quot;_blank&quot; href=&quot;http://ulukau.org/chd/p095.pdf&quot;&gt;ihoiho₃&lt;/a&gt;&lt;/span&gt;&lt;span class=&quot;chdonly-hwdotted&quot;&gt; [&lt;a class=&quot;chdonly-dot&quot; target=&quot;_blank&quot; href=&quot;http://ulukau.org/chd/haw-i.htm&#35;iho&quot;&gt;iho&lt;/a&gt;·&lt;a class=&quot;chdonly-dot&quot; target=&quot;_blank&quot; href=&quot;http://ulukau.org/chd/haw-i.htm&#35;iho&quot;&gt;iho&lt;/a&gt;]&lt;/span&gt;&amp;nbsp; &lt;span class=&quot;chdonly-pos&quot;&gt;n. &lt;/span&gt;&lt;span class=&quot;chdonly-def&quot;&gt;heart or heavy core of a tree. &lt;/span&gt;&lt;span class=&quot;chdonly-semcode&quot;&gt;TRE&lt;/span&gt;\\n&lt;p class=&quot;chdonly-hwSub&quot;&gt;&lt;a name=&quot;109017&quot;&gt;&lt;/a&gt;&lt;a name=&quot;ihoiho&quot;&gt;&lt;/a&gt;&lt;a name=&quot;ihoiho&quot;&gt;&lt;/a&gt;&lt;span class=&quot;chdonly-LA&quot;&gt;ihoiho&lt;/span&gt;&amp;nbsp; &lt;span class=&quot;chdonly-LApos&quot;&gt;s. &lt;/span&gt;&lt;span class=&quot;chdonly-LAdef&quot;&gt;The solid, heavy part of timber; the heart; something solid inside of something soft; hele mai ia me ka pu a me ka pololu a me ka &lt;i&gt;ihoiho&lt;/i&gt; kukui. &lt;/span&gt;\\n \\n</Content>\\n</Section>\\n</Archive>\\n'"
      ]
     },
     "execution_count": 115,
     "metadata": {},
     "output_type": "execute_result"
    }
   ],
   "source": [
    "b.text"
   ]
  },
  {
   "cell_type": "code",
   "execution_count": 149,
   "metadata": {},
   "outputs": [
    {
     "name": "stdout",
     "output_type": "stream",
     "text": [
      "<Element 'Section' at 0x011CBCF8>\n",
      "\t<Element 'Description' at 0x011CBB40>\n",
      "\t\t<Element 'Metadata' at 0x011CBD20>\n",
      "\t\t<Element 'Metadata' at 0x011CBD70>\n",
      "\t\t<Element 'Metadata' at 0x011CBDC0>\n",
      "\t\t<Element 'Metadata' at 0x011CBDE8>\n",
      "\t\t<Element 'Metadata' at 0x011CBE10>\n",
      "\t\t<Element 'Metadata' at 0x011CBE60>\n",
      "\t<Element 'Content' at 0x011CBE88>\n",
      "\t\t\t\n",
      "\n",
      "<span class=\"chdonly-HwNew\"><a class=\"chdonly-hw\" target=\"_blank\" href=\"http://ulukau.org/chd/p095.pdf\">-iho</a></span>&nbsp; <span class=\"chdonly-pos\"> </span><span class=\"chdonly-def\"> </span>\n",
      "<p class=\"chdonly-ex\"><span class=\"chdonly-hawex\"><a class=\"chdonly-ex\" target=\"_blank\" href=\"http://ulukau.org/chd/haw-conc-h.htm#he\">He</a> <a class=\"chdonly-ex\" target=\"_blank\" href=\"http://ulukau.org/chd/haw-conc-k.htm#kanaka\">kanaka</a> <a class=\"chdonly-ex\" target=\"_blank\" href=\"http://ulukau.org/chd/haw-conc-w.htm#waiwai\">waiwai</a> <a class=\"chdonly-ex\" target=\"_blank\" href=\"http://ulukau.org/chd/haw-conc-o.htm#oia\">ʻoia</a>,<a class=\"chdonly-ex\" target=\"_blank\" href=\"http://ulukau.org/chd/haw-conc-.htm#\"></a> <a class=\"chdonly-ex\" target=\"_blank\" href=\"http://ulukau.org/chd/haw-conc-a.htm#a\">a</a> <a class=\"chdonly-ex\" target=\"_blank\" href=\"http://ulukau.org/chd/haw-conc-h.htm#hoiho\">hoʻīho</a> <a class=\"chdonly-ex\" target=\"_blank\" href=\"http://ulukau.org/chd/haw-conc-n.htm#no\">nō</a>,<a class=\"chdonly-ex\" target=\"_blank\" href=\"http://ulukau.org/chd/haw-conc-.htm#\"></a> <a class=\"chdonly-ex\" target=\"_blank\" href=\"http://ulukau.org/chd/haw-conc-h.htm#he\">he</a> <a class=\"chdonly-ex\" target=\"_blank\" href=\"http://ulukau.org/chd/haw-conc-w.htm#wahine\">wahine</a> <a class=\"chdonly-ex\" target=\"_blank\" href=\"http://ulukau.org/chd/haw-conc-w.htm#waiwai\">waiwai</a> <a class=\"chdonly-ex\" target=\"_blank\" href=\"http://ulukau.org/chd/haw-conc-k.htm#kana\">kāna</a>.</span><span class=\"chdonly-engex\">He is a rich man and, besides that, has a rich wife.</span></p>\n",
      "<p class=\"chdonly-ex\"><span class=\"chdonly-hawex\"><b><a class=\"chdonly-hawinentry\" target=\"_blank\" href=\"http://ulukau.org/chd/haw-h.htm#hooihohoiho\">hoʻoiho, hoʻīho</a></b></span><span class=\"chdonly-engex\">besides that, also, furthermore,</span></p>\n",
      " \n",
      "\n",
      "\n",
      "<Element 'Section' at 0x011D08C0>\n",
      "\t<Element 'Description' at 0x011D08E8>\n",
      "\t\t<Element 'Metadata' at 0x011D0938>\n",
      "\t\t<Element 'Metadata' at 0x011D0988>\n",
      "\t\t<Element 'Metadata' at 0x011D09D8>\n",
      "\t\t<Element 'Metadata' at 0x011D0A00>\n",
      "\t\t<Element 'Metadata' at 0x011D0A28>\n",
      "\t\t<Element 'Metadata' at 0x011D0A78>\n",
      "\t<Element 'Content' at 0x011D0AA0>\n",
      "\t\t\t\n",
      "\n",
      "<span class=\"chdonly-HwNew\"><a class=\"chdonly-hwb\" target=\"_blank\" href=\"http://ulukau.org/chd/p094.pdf\">iho₁</a></span>&nbsp; <span class=\"chdonly-pos\">nvi. </span><span class=\"chdonly-def\">to go down, descend; downhill, towards the sea; to subside; go south or before the wind; descent. </span> <a class=\"chdonly-bc\" target=\"_blank\" href=\"http://ulukau.org/chd/baibala/baibala-conc-iho.htm\">bc</a>  <span class=\"chdonly-proto\">[(EO) PPn *<a class=\"chdonly-proto\" target=\"_blank\" href=\"http://pollex.org.nz/entry/hifo\">hifo</a>, <i>downwards</i>]</span> <span class=\"chdonly-hawdef\">[hele i kekahi wahi i lalo ou.]</span><a target=\"_blank\" href=\"http://ulukau.org/chd/glossrefs.htm\"><span class=\"chdonly-hawdef\">₁₉</span></a>\n",
      "<p class=\"chdonly-ex\"><span class=\"chdonly-hawex\"><b><a class=\"chdonly-hawinentry\" target=\"_blank\" href=\"http://ulukau.org/chd/haw-h.htm#hooiho\">hoʻoiho</a></b></span><span class=\"chdonly-engex\">caus/sim</span></p>\n",
      "<p class=\"chdonly-hwSub\"><a name=\"109006\"></a><a name=\"iho\"></a><a name=\"iho\"></a><span class=\"chdonly-LA\">iho</span>&nbsp; <span class=\"chdonly-LApos\">v. </span><span class=\"chdonly-LAdef\">To go down; to descend, as from a higher to a lower place. <i>Nah</i>. 12:5. To go down from an eminence. <i>Puk</i>. 19:24. E <i>iho</i> ana i ka pali, descending a precipice. </span>\n",
      "<span class=\"chdonly-LApos\"> </span><span class=\"chdonly-LAdef\"><i>Hoo</i>. To cause to descend; to bring down, as a punishment. 1 <i>Nal</i>. 2:9. </span>\n",
      "<span class=\"chdonly-LApos\"> </span><span class=\"chdonly-LAdef\">To cause to fall. <i>Ezek</i>. 26:20. </span>\n",
      "<span class=\"chdonly-LApos\"> </span><span class=\"chdonly-LAdef\">A verbal directive, which implies, </span>\n",
      "<span class=\"chdonly-LApos\"> </span><span class=\"chdonly-LAdef\">Motion or tendency downward. </span>\n",
      "<span class=\"chdonly-LApos\"> </span><span class=\"chdonly-LAdef\">It implies succession, and is used much in narrative tenses; generally followed by <i>la. Gram</i>. § 233, § 234, 3d; § 237, § 239. </span>\n",
      " \n",
      "\n",
      "\n",
      "<Element 'Section' at 0x011D2500>\n",
      "\t<Element 'Description' at 0x011D2528>\n",
      "\t\t<Element 'Metadata' at 0x011D2578>\n",
      "\t\t<Element 'Metadata' at 0x011D25C8>\n",
      "\t\t<Element 'Metadata' at 0x011D2618>\n",
      "\t\t<Element 'Metadata' at 0x011D2640>\n",
      "\t\t<Element 'Metadata' at 0x011D2668>\n",
      "\t\t<Element 'Metadata' at 0x011D26B8>\n",
      "\t<Element 'Content' at 0x011D26E0>\n",
      "\t\t\t\n",
      "\n",
      "<span class=\"chdonly-HwNew\"><a class=\"chdonly-hw\" target=\"_blank\" href=\"http://ulukau.org/chd/p094.pdf\">iho₂</a></span>&nbsp; <span class=\"chdonly-pos\">n. </span><span class=\"chdonly-def\"><br> &nbsp; &bull; core, as of an apple, breadfruit, or pandanus; cob, as or corn; heart, as of celery: \n",
      "<br> &nbsp; &bull; spongy white growth in the center of a sprouted coconut, sometimes called coconut sponge (cf. <a class=\"chdonly-hawinentry\" target=\"_blank\" href=\"http://ulukau.org/chd/haw-l.htm#loloniu\">lolo niu</a>, embryonic sponge in a coconut); \n",
      "<br> &nbsp; &bull; pith, <a target=\"_blank\" href=\"http://en.wikipedia.org/wiki/Spadix\">spadix</a>; \n",
      "<br> &nbsp; &bull; flesh of the octopus after the skin is removed; \n",
      "<br> &nbsp; &bull; axis, as of the earth; \n",
      "<br> &nbsp; &bull; axle, as of a wheel.<br> &nbsp; </span>. <span class=\"chdonly-See\">also </span><a class=\"chdonly-hawinentry\" target=\"_blank\" href=\"http://ulukau.org/chd/haw-h.htm#haku\">haku</a>.  <a class=\"chdonly-bc\" target=\"_blank\" href=\"http://ulukau.org/chd/baibala/baibala-conc-iho.htm\">bc</a>  <span class=\"chdonly-proto\">[Pn(CE) *<a class=\"chdonly-proto\" target=\"_blank\" href=\"http://pollex.org.nz/entry/iso\">iso</a>, <i>pith, core; umbilical cord</i>]</span><span class=\"chdonly-semcode\">CAN PAN CN TRE</span>\n",
      "<p class=\"chdonly-ex\"><span class=\"chdonly-hawex\"><a class=\"chdonly-ex\" target=\"_blank\" href=\"http://ulukau.org/chd/haw-conc-i.htm#iho\">iho</a> <a class=\"chdonly-ex\" target=\"_blank\" href=\"http://ulukau.org/chd/haw-conc-o.htm#ole\">ʻole</a></span><span class=\"chdonly-engex\">without core, said of koa trees easily shaped into canoes</span></p>\n",
      "<p class=\"chdonly-hwSub\"><a name=\"75715\"></a><a name=\"iho\"></a><a name=\"iho\"></a><span class=\"chdonly-MK\"><a class=\"chdonly-MkHw\"  target=\"_blank\" href=\"http://ulukau.org/chd/haw-i.htm#iho\">iho</a></span>&nbsp; <span class=\"chdonly-MKpos\">n. </span><span class=\"chdonly-MKdef\">axle, i.e. a shaft on which a wheel turns. </span> <span class=\"chdonly-seeMK\">also </span><a class=\"chdonly-hawinentry\" target=\"_blank\" href=\"http://ulukau.org/chd/haw-p.htm#paepaekomohuila\">paepae komo huila</a>. <span class=\"chdonly-semcode\">CAN PAN CN TRE</span>\n",
      "<p class=\"chdonly-hwSub\"><span class=\"chdonly-MKpos\">n. </span><span class=\"chdonly-MKdef\">axis, in math. </span> <span class=\"chdonly-seeMK\">see </span><a class=\"chdonly-hawinentry\" target=\"_blank\" href=\"http://ulukau.org/chd/haw-k.htm#kuhikuhina\">kuhikuhina</a>. <span class=\"chdonly-semcode\">CAN PAN CN TRE</span>\n",
      "<p class=\"chdonly-ex\"><span class=\"chdonly-hawexMK\"><a class=\"chdonly-ex\" target=\"_blank\" href=\"http://ulukau.org/chd/haw-conc-n.htm#na\">nā</a> <a class=\"chdonly-ex\" target=\"_blank\" href=\"http://ulukau.org/chd/haw-conc-i.htm#iho\">iho</a> <a class=\"chdonly-ex\" target=\"_blank\" href=\"http://ulukau.org/chd/haw-conc-k.htm#kuhikuhina\">kuhikuhina</a></span><span class=\"chdonly-engexMK\">coordinate axes, i.e. two intersecting perpendicular number lines used for graphing ordered number pairs in math</span></p>\n",
      "<p class=\"chdonly-hwSub\"><span class=\"chdonly-MKpos\">n. </span><span class=\"chdonly-MKdef\">nucleus of a syllable, in linguistics. </span><span class=\"chdonly-semcode\">LNG</span>\n",
      "<p class=\"chdonly-hwSub\"><a name=\"109009\"></a><a name=\"iho\"></a><a name=\"iho\"></a><span class=\"chdonly-LA\">iho</span>&nbsp; <span class=\"chdonly-LApos\">s. </span><span class=\"chdonly-LAdef\">The pith of a vegetable; <i>he iho</i> laau ka mea mawaena o ka laau, the <i>pith</i> of a tree is what is in the center of the tree. </span>\n",
      "<span class=\"chdonly-LApos\"> </span><span class=\"chdonly-LAdef\">In <i>geography</i>, the pole of the earth; he <i>iho</i> ko ka honua a puka ma na aoao elua, the earth has a pith (pole) coming out at both sides; ka <i>iho</i> kukui. <i>see</i> <a class=\"chdonly-lalink\" target=\"_blank\" href=\"http://ulukau.org/chd/haw-h.htm#haw-i.htm#ihoiho\">ihoiho</a>. </span>\n",
      " \n",
      "\n",
      "\n",
      "<Element 'Section' at 0x011D4A00>\n",
      "\t<Element 'Description' at 0x011D4A28>\n",
      "\t\t<Element 'Metadata' at 0x011D4A78>\n",
      "\t\t<Element 'Metadata' at 0x011D4AC8>\n",
      "\t\t<Element 'Metadata' at 0x011D4B18>\n",
      "\t\t<Element 'Metadata' at 0x011D4B40>\n",
      "\t\t<Element 'Metadata' at 0x011D4B68>\n",
      "\t\t<Element 'Metadata' at 0x011D4BB8>\n",
      "\t<Element 'Content' at 0x011D4BE0>\n",
      "\t\t\t\n",
      "\n",
      "<span class=\"chdonly-HwNew\"><a class=\"chdonly-hw\" target=\"_blank\" href=\"http://ulukau.org/chd/p094.pdf\">iho₃</a></span>&nbsp; <span class=\"chdonly-pos\">n. </span><span class=\"chdonly-def\">collective terms for inner layers of white sleeping <a class=\"chdonly-t\" target=\"_blank\" href=\"http://ulukau.org/chd/haw-tapa.htm\">tapa</a>s below the <a class=\"chdonly-hawinentry\" target=\"_blank\" href=\"http://ulukau.org/chd/haw-k.htm#kilohana\">kilohana</a>. </span> <a class=\"chdonly-bc\" target=\"_blank\" href=\"http://ulukau.org/chd/baibala/baibala-conc-iho.htm\">bc</a> <span class=\"chdonly-semcode\">TAP</span>\n",
      "<p class=\"chdonly-hwSub\"><a name=\"109011\"></a><a name=\"iho\"></a><a name=\"iho\"></a><span class=\"chdonly-LA\">iho</span>&nbsp; <span class=\"chdonly-LApos\">s. </span><span class=\"chdonly-LAdef\">Name of the inferior kapas in a set, the best being the kilohana. </span>\n",
      " \n",
      "\n",
      "\n",
      "<Element 'Section' at 0x011D60F0>\n",
      "\t<Element 'Description' at 0x011D6118>\n",
      "\t\t<Element 'Metadata' at 0x011D6168>\n",
      "\t\t<Element 'Metadata' at 0x011D61B8>\n",
      "\t\t<Element 'Metadata' at 0x011D6208>\n",
      "\t\t<Element 'Metadata' at 0x011D6230>\n",
      "\t\t<Element 'Metadata' at 0x011D6258>\n",
      "\t\t<Element 'Metadata' at 0x011D62A8>\n",
      "\t<Element 'Content' at 0x011D62D0>\n",
      "\t\t\t\n",
      "\n",
      "<span class=\"chdonly-HwNew\"><a class=\"chdonly-hw\" target=\"_blank\" href=\"http://ulukau.org/chd/p094.pdf\">iho₄</a></span>&nbsp; <span class=\"chdonly-pos\">n. </span><span class=\"chdonly-def\">block used in plaiting a hat to give shape to the crown. </span> <span class=\"chdonly-See\">also </span><a class=\"chdonly-hawinentry\" target=\"_blank\" href=\"http://ulukau.org/chd/haw-p.htm#pahupapale\">pahu pāpale</a>.  <a class=\"chdonly-bc\" target=\"_blank\" href=\"http://ulukau.org/chd/baibala/baibala-conc-iho.htm\">bc</a> <span class=\"chdonly-semcode\">CLO</span>\n",
      " \n",
      "\n",
      "\n",
      "<Element 'Section' at 0x011D65F0>\n",
      "\t<Element 'Description' at 0x011D6618>\n",
      "\t\t<Element 'Metadata' at 0x011D6668>\n",
      "\t\t<Element 'Metadata' at 0x011D66B8>\n",
      "\t\t<Element 'Metadata' at 0x011D6708>\n",
      "\t\t<Element 'Metadata' at 0x011D6730>\n",
      "\t\t<Element 'Metadata' at 0x011D6758>\n",
      "\t\t<Element 'Metadata' at 0x011D67A8>\n",
      "\t<Element 'Content' at 0x011D67D0>\n",
      "\t\t\t\n",
      "\n",
      "<span class=\"chdonly-HwNew\"><a class=\"chdonly-hw\" target=\"_blank\" href=\"http://ulukau.org/chd/p094.pdf\">iho₅</a></span>&nbsp; <span class=\"chdonly-pos\">n. </span><span class=\"chdonly-def\">battery, electric plug. </span> <a class=\"chdonly-bc\" target=\"_blank\" href=\"http://ulukau.org/chd/baibala/baibala-conc-iho.htm\">bc</a> \n",
      "<p class=\"chdonly-ex\"><span class=\"chdonly-hawex\"><a class=\"chdonly-ex\" target=\"_blank\" href=\"http://ulukau.org/chd/haw-conc-i.htm#iho\">iho</a> <a class=\"chdonly-ex\" target=\"_blank\" href=\"http://ulukau.org/chd/haw-conc-i.htm#iona\">ʻiona</a> <a class=\"chdonly-ex\" target=\"_blank\" href=\"http://ulukau.org/chd/haw-conc-l.htm#likiuma\">likiuma</a></span><span class=\"chdonly-OtherExdef\">ion-lithium battery</span></p>\n",
      "<p class=\"chdonly-hwSub\"><a name=\"75714\"></a><a name=\"iho\"></a><a name=\"iho\"></a><span class=\"chdonly-MK\"><a class=\"chdonly-MkHw\"  target=\"_blank\" href=\"http://ulukau.org/chd/haw-i.htm#iho\">iho</a></span>&nbsp; <span class=\"chdonly-MKpos\">n. </span><span class=\"chdonly-MKdef\">battery. <i>also</i> <a class=\"chdonly-hawinentry\" target=\"_blank\" href=\"http://ulukau.org/chd/haw-p.htm#pakale\">pakalē</a>. </span> <span class=\"chdonly-seeMK\">see </span><a class=\"chdonly-hawinentry\" target=\"_blank\" href=\"http://ulukau.org/chd/haw-o.htm#omoleihouila\">ʻōmole iho uila</a>. \n",
      "<p class=\"chdonly-ex\"><span class=\"chdonly-hawexMK\"><a class=\"chdonly-ex\" target=\"_blank\" href=\"http://ulukau.org/chd/haw-conc-i.htm#iho\">iho</a> <a class=\"chdonly-ex\" target=\"_blank\" href=\"http://ulukau.org/chd/haw-conc-e.htm#eono\">ʻeono</a></span><span class=\"chdonly-engexMK\">six-volt battery</span></p>\n",
      "<p class=\"chdonly-ex\"><span class=\"chdonly-hawexMK\"><a class=\"chdonly-ex\" target=\"_blank\" href=\"http://ulukau.org/chd/haw-conc-i.htm#iho\">iho</a> <a class=\"chdonly-ex\" target=\"_blank\" href=\"http://ulukau.org/chd/haw-conc-p.htm#pihi\">pihi</a></span><span class=\"chdonly-engexMK\">button-shape battery</span></p>\n",
      "<p class=\"chdonly-ex\"><span class=\"chdonly-hawexMK\"><a class=\"chdonly-ex\" target=\"_blank\" href=\"http://ulukau.org/chd/haw-conc-i.htm#iho\">iho</a> <a class=\"chdonly-ex\" target=\"_blank\" href=\"http://ulukau.org/chd/haw-conc-p.htm#poke\">poke</a></span><span class=\"chdonly-engexMK\">battery for flashlight, radio, etc</span></p>\n",
      "<p class=\"chdonly-ex\"><span class=\"chdonly-hawexMK\"><a class=\"chdonly-ex\" target=\"_blank\" href=\"http://ulukau.org/chd/haw-conc-i.htm#iho\">iho</a> <a class=\"chdonly-ex\" target=\"_blank\" href=\"http://ulukau.org/chd/haw-conc-u.htm#umikumalua\">ʻumikūmālua</a></span><span class=\"chdonly-engexMK\">twelve-volt battery</span></p>\n",
      " \n",
      "\n",
      "\n",
      "<Element 'Section' at 0x011D96E0>\n",
      "\t<Element 'Description' at 0x011D9708>\n",
      "\t\t<Element 'Metadata' at 0x011D9758>\n",
      "\t\t<Element 'Metadata' at 0x011D97A8>\n",
      "\t\t<Element 'Metadata' at 0x011D9820>\n",
      "\t\t<Element 'Metadata' at 0x011D9870>\n",
      "\t\t<Element 'Metadata' at 0x011D98C0>\n",
      "\t\t<Element 'Metadata' at 0x011C7A78>\n",
      "\t<Element 'Content' at 0x011C7A28>\n",
      "\t\t\t\n",
      "\n",
      "<span class=\"chdonly-HwNew\"><a class=\"chdonly-hw\" target=\"_blank\" href=\"http://ulukau.org/chd/p094.pdf\">iho₆</a></span>&nbsp; <span class=\"chdonly-pos\">directional. </span><span class=\"chdonly-def\">down, below. <a class=\"chdonly-hawinentry\" target=\"_blank\" href=\"http://ulukau.org/chd/haw-i.htm#iho\">Iho</a> + demon. <a class=\"chdonly-hawinentry\" target=\"_blank\" href=\"http://ulukau.org/chd/haw-l.htm#la\">la</a> is pronounced and written as a single word, <a class=\"chdonly-hawinentry\" target=\"_blank\" href=\"http://ulukau.org/chd/haw-i.htm#ihola\">ihola</a>. </span><span class=\"chdonly-gram\"><a class=\"chdonly-refs\" target=\"_blank\" href=\"http://ulukau.org/chd/refs.htm#Gram.\"><a class=\"chdonly-refs\" target=\"_blank\" href=\"http://www.ulukau.org/elib/cgi-bin/library?a=redirect&d=D0.3&rurl=/elib/collect/hawaiiangrammar/index/assoc/D0.dir/doc116.pdf\">(Gram. 7.2, Table 12) </a>&nbsp;</a></span> <a class=\"chdonly-bc\" target=\"_blank\" href=\"http://ulukau.org/chd/baibala/baibala-conc-iho.htm\">bc</a>  <span class=\"chdonly-proto\">PPN *hifo. </span>\n",
      "<p class=\"chdonly-ex\"><span class=\"chdonly-hawex\"><a class=\"chdonly-ex\" target=\"_blank\" href=\"http://ulukau.org/chd/haw-conc-h.htm#hele\">hele</a> <a class=\"chdonly-ex\" target=\"_blank\" href=\"http://ulukau.org/chd/haw-conc-i.htm#iho\">iho</a></span><span class=\"chdonly-engex\">go down, descend</span></p>\n",
      "<p class=\"chdonly-ex\"><span class=\"chdonly-hawex\"><a class=\"chdonly-ex\" target=\"_blank\" href=\"http://ulukau.org/chd/haw-conc-m.htm#maluna\">maluna</a> <a class=\"chdonly-ex\" target=\"_blank\" href=\"http://ulukau.org/chd/haw-conc-i.htm#iho\">iho</a></span><span class=\"chdonly-engex\">just barely on top</span></p>\n",
      "<p class=\"chdonly-hwSub\"><a name=\"109015\"></a><a name=\"iho\"></a><a name=\"iho\"></a><span class=\"chdonly-LA\">iho</span>&nbsp; <span class=\"chdonly-LApos\"> </span><span class=\"chdonly-LAdef\">is also used after adverbs of time, and expresses succession of time; as, mahope <i>iho</i>, after that. <i>Lunk</i>. 1:1. <i>lho</i> nei, just now. </span>\n",
      " \n",
      "\n",
      "\n",
      "<Element 'Section' at 0x0119E1E0>\n",
      "\t<Element 'Description' at 0x0119E230>\n",
      "\t\t<Element 'Metadata' at 0x0119E168>\n",
      "\t\t<Element 'Metadata' at 0x0115AD98>\n",
      "\t\t<Element 'Metadata' at 0x01146280>\n",
      "\t\t<Element 'Metadata' at 0x00F81E38>\n",
      "\t\t<Element 'Metadata' at 0x0114F208>\n",
      "\t\t<Element 'Metadata' at 0x0116E910>\n",
      "\t<Element 'Content' at 0x0116EF00>\n",
      "\t\t\t\n",
      "\n",
      "<span class=\"chdonly-HwNew\"><a class=\"chdonly-hw\" target=\"_blank\" href=\"http://ulukau.org/chd/p094.pdf\">iho₇</a></span>&nbsp; <span class=\"chdonly-pos\"> </span><span class=\"chdonly-def\">same part. and reference as above but with reflexive meaning, often following words describing activities of the body, as eating, drinking, thinking. </span> <a class=\"chdonly-bc\" target=\"_blank\" href=\"http://ulukau.org/chd/baibala/baibala-conc-iho.htm\">bc</a>  <span class=\"chdonly-proto\">PPN *hifo. </span>\n",
      "<p class=\"chdonly-ex\"><span class=\"chdonly-hawex\"><a class=\"chdonly-ex\" target=\"_blank\" href=\"http://ulukau.org/chd/haw-conc-a.htm#ai\">ʻai</a> <a class=\"chdonly-ex\" target=\"_blank\" href=\"http://ulukau.org/chd/haw-conc-i.htm#iho\">iho</a></span><span class=\"chdonly-engex\">to eat</span></p>\n",
      "<p class=\"chdonly-ex\"><span class=\"chdonly-hawex\"><a class=\"chdonly-ex\" target=\"_blank\" href=\"http://ulukau.org/chd/haw-conc-m.htm#make\">Make</a> <a class=\"chdonly-ex\" target=\"_blank\" href=\"http://ulukau.org/chd/haw-conc-w.htm#wai\">wai</a> <a class=\"chdonly-ex\" target=\"_blank\" href=\"http://ulukau.org/chd/haw-conc-i.htm#ihola\">ihola</a> <a class=\"chdonly-ex\" target=\"_blank\" href=\"http://ulukau.org/chd/haw-conc-o.htm#o\">ʻo</a> <a class=\"chdonly-ex\" target=\"_blank\" href=\"http://ulukau.org/chd/haw-conc-k.htm#kawika\">Kāwika</a>.</span><span class=\"chdonly-engex\">David was thirsty.</span><span class=\"chdonly-exsource\"> (Oihn 11.17)</span></p>\n",
      "<p class=\"chdonly-ex\"><span class=\"chdonly-hawex\"><a class=\"chdonly-ex\" target=\"_blank\" href=\"http://ulukau.org/chd/haw-conc-n.htm#noonoo\">noʻonoʻo</a> <a class=\"chdonly-ex\" target=\"_blank\" href=\"http://ulukau.org/chd/haw-conc-i.htm#iho\">iho</a></span><span class=\"chdonly-engex\">to think</span></p>\n",
      " \n",
      "\n",
      "\n",
      "<Element 'Section' at 0x011AD758>\n",
      "\t<Element 'Description' at 0x011ADF78>\n",
      "\t\t<Element 'Metadata' at 0x011ADCA8>\n",
      "\t\t<Element 'Metadata' at 0x011ADA28>\n",
      "\t\t<Element 'Metadata' at 0x011ADFA0>\n",
      "\t\t<Element 'Metadata' at 0x011AD848>\n",
      "\t\t<Element 'Metadata' at 0x011ADB18>\n",
      "\t\t<Element 'Metadata' at 0x011AD190>\n",
      "\t<Element 'Content' at 0x011AD960>\n",
      "\t\t\t\n",
      "\n",
      "<span class=\"chdonly-HwNew\"><a class=\"chdonly-hw\" target=\"_blank\" href=\"http://ulukau.org/chd/p094.pdf\">iho₈</a></span>&nbsp; <span class=\"chdonly-pos\"> </span><span class=\"chdonly-def\">same part. and reference as above, with meaning \"self\" personally. </span> <a class=\"chdonly-bc\" target=\"_blank\" href=\"http://ulukau.org/chd/baibala/baibala-conc-iho.htm\">bc</a> \n",
      "<p class=\"chdonly-ex\"><span class=\"chdonly-hawex\"><a class=\"chdonly-ex\" target=\"_blank\" href=\"http://ulukau.org/chd/haw-conc-e.htm#e\">E</a> <a class=\"chdonly-ex\" target=\"_blank\" href=\"http://ulukau.org/chd/haw-conc-h.htm#hana\">hana</a> <a class=\"chdonly-ex\" target=\"_blank\" href=\"http://ulukau.org/chd/haw-conc-o.htm#oia\">ʻoia</a> <a class=\"chdonly-ex\" target=\"_blank\" href=\"http://ulukau.org/chd/haw-conc-n.htm#nona\">nona</a> <a class=\"chdonly-ex\" target=\"_blank\" href=\"http://ulukau.org/chd/haw-conc-i.htm#iho\">iho</a>.</span><span class=\"chdonly-engex\">He will work for himself.</span></p>\n",
      "<p class=\"chdonly-ex\"><span class=\"chdonly-hawex\"><a class=\"chdonly-ex\" target=\"_blank\" href=\"http://ulukau.org/chd/haw-conc-o.htm#o\">ʻO</a> <a class=\"chdonly-ex\" target=\"_blank\" href=\"http://ulukau.org/chd/haw-conc-a.htm#au\">au</a> <a class=\"chdonly-ex\" target=\"_blank\" href=\"http://ulukau.org/chd/haw-conc-i.htm#iho\">iho</a> <a class=\"chdonly-ex\" target=\"_blank\" href=\"http://ulukau.org/chd/haw-conc-n.htm#no\">nō</a> <a class=\"chdonly-ex\" target=\"_blank\" href=\"http://ulukau.org/chd/haw-conc-m.htm#me\">me</a> <a class=\"chdonly-ex\" target=\"_blank\" href=\"http://ulukau.org/chd/haw-conc-k.htm#ka\">ka</a> <a class=\"chdonly-ex\" target=\"_blank\" href=\"http://ulukau.org/chd/haw-conc-m.htm#mahalo\">mahalo</a>.</span><span class=\"chdonly-engex\">I am, yours respectfully.</span></p>\n",
      "<p class=\"chdonly-ex\"><span class=\"chdonly-hawex\"><a class=\"chdonly-ex\" target=\"_blank\" href=\"http://ulukau.org/chd/haw-conc-p.htm#paakiki\">paʻakikī</a> <a class=\"chdonly-ex\" target=\"_blank\" href=\"http://ulukau.org/chd/haw-conc-m.htm#ma\">ma</a> <a class=\"chdonly-ex\" target=\"_blank\" href=\"http://ulukau.org/chd/haw-conc-k.htm#kana\">kāna</a> <a class=\"chdonly-ex\" target=\"_blank\" href=\"http://ulukau.org/chd/haw-conc-i.htm#iho\">iho</a></span><span class=\"chdonly-engex\">stubborn with his own self</span><span class=\"chdonly-exsource\"> <a class=\"chdonly-refs\" target=\"_blank\" href=\"http://ulukau.org/chd/refs.htm#Kep.\">(Kep. 103)</a></span></p>\n",
      "<p class=\"chdonly-hwSub\"><a name=\"109016\"></a><a name=\"iho\"></a><a name=\"iho\"></a><span class=\"chdonly-LA\">iho</span>&nbsp; <span class=\"chdonly-LApos\"> </span><span class=\"chdonly-LAdef\">following nouns or pronouns, is equivalent to <i>self</i> or <i>selves</i>; as, <i>e</i> malama ia oukou <i>iho</i>, take care of your <i>selves</i>; eia ko'u manao no&apos;u <i>iho</i>, here is my opinion of <i>myself</i>. It is equivalent to <i>own</i> after a possessive; as, kona <i>iho</i>, his <i>own</i>. </span>\n",
      " \n",
      "\n",
      "\n",
      "<Element 'Section' at 0x011DB4B0>\n",
      "\t<Element 'Description' at 0x011DB4D8>\n",
      "\t\t<Element 'Metadata' at 0x011DB528>\n",
      "\t\t<Element 'Metadata' at 0x011DB578>\n",
      "\t\t<Element 'Metadata' at 0x011DB5C8>\n",
      "\t\t<Element 'Metadata' at 0x011DB5F0>\n",
      "\t\t<Element 'Metadata' at 0x011DB618>\n",
      "\t\t<Element 'Metadata' at 0x011DB668>\n",
      "\t<Element 'Content' at 0x011DB690>\n",
      "\t\t\t\n",
      "\n",
      "<span class=\"chdonly-HwNew\"><a class=\"chdonly-hw\" target=\"_blank\" href=\"http://ulukau.org/chd/p094.pdf\">iho₉</a></span>&nbsp; <span class=\"chdonly-pos\"> </span><span class=\"chdonly-def\">same part. and reference as <a class=\"chdonly-hawinentry\" target=\"_blank\" href=\"http://ulukau.org/chd/haw-i.htm#iho\">iho</a>₆,₇,₈, but used with words of time, usually present or future, but past if followed by <a class=\"chdonly-hawinentry\" target=\"_blank\" href=\"http://ulukau.org/chd/haw-n.htm#nei\">nei</a>. </span> <a class=\"chdonly-bc\" target=\"_blank\" href=\"http://ulukau.org/chd/baibala/baibala-conc-iho.htm\">bc</a> \n",
      "<p class=\"chdonly-ex\"><span class=\"chdonly-hawex\"><a class=\"chdonly-ex\" target=\"_blank\" href=\"http://ulukau.org/chd/haw-conc-a.htm#ano\">ʻĀnō</a> <a class=\"chdonly-ex\" target=\"_blank\" href=\"http://ulukau.org/chd/haw-conc-i.htm#iho\">iho</a> <a class=\"chdonly-ex\" target=\"_blank\" href=\"http://ulukau.org/chd/haw-conc-n.htm#nei\">nei</a>.</span><span class=\"chdonly-engex\">Just now, just a short time ago, recently.</span></p>\n",
      "<p class=\"chdonly-ex\"><span class=\"chdonly-hawex\"><a class=\"chdonly-ex\" target=\"_blank\" href=\"http://ulukau.org/chd/haw-conc-i.htm#i\">i</a> <a class=\"chdonly-ex\" target=\"_blank\" href=\"http://ulukau.org/chd/haw-conc-k.htm#keia\">kēia</a> <a class=\"chdonly-ex\" target=\"_blank\" href=\"http://ulukau.org/chd/haw-conc-m.htm#mau\">mau</a> <a class=\"chdonly-ex\" target=\"_blank\" href=\"http://ulukau.org/chd/haw-conc-l.htm#la\">lā</a> <a class=\"chdonly-ex\" target=\"_blank\" href=\"http://ulukau.org/chd/haw-conc-i.htm#iho\">iho</a> <a class=\"chdonly-ex\" target=\"_blank\" href=\"http://ulukau.org/chd/haw-conc-n.htm#nei\">nei</a></span><span class=\"chdonly-engex\">a few days ago</span></p>\n",
      "<p class=\"chdonly-ex\"><span class=\"chdonly-hawex\"><a class=\"chdonly-ex\" target=\"_blank\" href=\"http://ulukau.org/chd/haw-conc-k.htm#keia\">kēia</a> <a class=\"chdonly-ex\" target=\"_blank\" href=\"http://ulukau.org/chd/haw-conc-l.htm#lapule\">Lāpule</a> <a class=\"chdonly-ex\" target=\"_blank\" href=\"http://ulukau.org/chd/haw-conc-i.htm#iho\">iho</a></span><span class=\"chdonly-engex\">this coming Sunday</span></p>\n",
      "<p class=\"chdonly-ex\"><span class=\"chdonly-hawex\"><a class=\"chdonly-ex\" target=\"_blank\" href=\"http://ulukau.org/chd/haw-conc-m.htm#mahope\">mahope</a> <a class=\"chdonly-ex\" target=\"_blank\" href=\"http://ulukau.org/chd/haw-conc-i.htm#iho\">iho</a></span><span class=\"chdonly-engex\">afterwards</span></p>\n",
      "<p class=\"chdonly-ex\"><span class=\"chdonly-hawex\"><a class=\"chdonly-ex\" target=\"_blank\" href=\"http://ulukau.org/chd/haw-conc-o.htm#o\">ʻO</a> <a class=\"chdonly-ex\" target=\"_blank\" href=\"http://ulukau.org/chd/haw-conc-k.htm#ka\">ka</a> <a class=\"chdonly-ex\" target=\"_blank\" href=\"http://ulukau.org/chd/haw-conc-m.htm#manawa\">manawa</a> <a class=\"chdonly-ex\" target=\"_blank\" href=\"http://ulukau.org/chd/haw-conc-i.htm#ihola\">ihola</a> <a class=\"chdonly-ex\" target=\"_blank\" href=\"http://ulukau.org/chd/haw-conc-n.htm#no\">nō</a> <a class=\"chdonly-ex\" target=\"_blank\" href=\"http://ulukau.org/chd/haw-conc-i.htm#ia\">ia</a>.</span><span class=\"chdonly-engex\">It's just the time.</span></p>\n",
      "<a name=\"ihoe\"></a>\n",
      " \n",
      "\n",
      "\n"
     ]
    }
   ],
   "source": [
    "\n",
    "\n",
    "    #name = node.attrib.get(\"name\")\n",
    "    #mail = node.find(\"email\").text if node is not None else None\n",
    "    #age = node.find(\"age\").text if node is not None else None\n"
   ]
  },
  {
   "cell_type": "code",
   "execution_count": 158,
   "metadata": {},
   "outputs": [],
   "source": [
    "t = soups[1].findAll(\"span\")"
   ]
  },
  {
   "cell_type": "code",
   "execution_count": 160,
   "metadata": {},
   "outputs": [
    {
     "data": {
      "text/plain": [
       "<span class=\"chdonly-def\">to go down, descend; downhill, towards the sea; to subside; go south or before the wind; descent. </span>"
      ]
     },
     "execution_count": 160,
     "metadata": {},
     "output_type": "execute_result"
    }
   ],
   "source": [
    "t[2]"
   ]
  },
  {
   "cell_type": "code",
   "execution_count": 182,
   "metadata": {},
   "outputs": [
    {
     "name": "stdout",
     "output_type": "stream",
     "text": [
      "<a class=\"chdonly-hwb\" href=\"http://ulukau.org/chd/p094.pdf\" target=\"_blank\">iho₁</a>\n",
      "nvi. \n",
      "to go down, descend; downhill, towards the sea; to subside; go south or before the wind; descent. \n",
      "[(EO) PPn *<a class=\"chdonly-proto\" href=\"http://pollex.org.nz/entry/hifo\" target=\"_blank\">hifo</a>, <i>downwards</i>]\n",
      "[hele i kekahi wahi i lalo ou.]\n",
      "₁₉\n",
      "<b><a class=\"chdonly-hawinentry\" href=\"http://ulukau.org/chd/haw-h.htm#hooiho\" target=\"_blank\">hoʻoiho</a></b>\n",
      "caus/sim\n",
      "iho\n",
      "v. \n",
      "To go down; to descend, as from a higher to a lower place. <i>Nah</i>. 12:5. To go down from an eminence. <i>Puk</i>. 19:24. E <i>iho</i> ana i ka pali, descending a precipice. \n",
      " \n",
      "<i>Hoo</i>. To cause to descend; to bring down, as a punishment. 1 <i>Nal</i>. 2:9. \n",
      " \n",
      "To cause to fall. <i>Ezek</i>. 26:20. \n",
      " \n",
      "A verbal directive, which implies, \n",
      " \n",
      "Motion or tendency downward. \n",
      " \n",
      "It implies succession, and is used much in narrative tenses; generally followed by <i>la. Gram</i>. § 233, § 234, 3d; § 237, § 239. \n"
     ]
    }
   ],
   "source": [
    "\n"
   ]
  },
  {
   "cell_type": "code",
   "execution_count": null,
   "metadata": {},
   "outputs": [],
   "source": []
  }
 ],
 "metadata": {
  "kernelspec": {
   "display_name": "Python 3",
   "language": "python",
   "name": "python3"
  },
  "language_info": {
   "codemirror_mode": {
    "name": "ipython",
    "version": 3
   },
   "file_extension": ".py",
   "mimetype": "text/x-python",
   "name": "python",
   "nbconvert_exporter": "python",
   "pygments_lexer": "ipython3",
   "version": "3.8.2"
  }
 },
 "nbformat": 4,
 "nbformat_minor": 4
}
